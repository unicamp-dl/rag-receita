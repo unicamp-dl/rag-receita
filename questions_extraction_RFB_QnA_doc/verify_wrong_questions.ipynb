{
 "cells": [
  {
   "cell_type": "code",
   "execution_count": 1,
   "id": "45b79927-6f4c-423e-b5d7-3f55d662816f",
   "metadata": {},
   "outputs": [],
   "source": [
    "import os\n",
    "import glob\n",
    "import pickle"
   ]
  },
  {
   "cell_type": "code",
   "execution_count": 2,
   "id": "4545ef09-7c51-4349-9e3e-bd625210d3f9",
   "metadata": {},
   "outputs": [],
   "source": [
    "DATA_PATH=\"data/\""
   ]
  },
  {
   "cell_type": "code",
   "execution_count": 3,
   "id": "dd440266-ad8e-4f72-9afe-a94f2f877da7",
   "metadata": {},
   "outputs": [
    {
     "data": {
      "text/plain": [
       "['data/chunks_normas.pkl',\n",
       " 'data/chunks_normas_new.pkl',\n",
       " 'data/context_matching_results_rag_20250217.pkl',\n",
       " 'data/extracted_document_matches_20250210.pkl',\n",
       " 'data/extracted_questions_20250203_final.pkl',\n",
       " 'data/extracted_questions_20250203_parcial_01.pkl',\n",
       " 'data/extracted_questions_20250203_parcial_02.pkl',\n",
       " 'data/extracted_questions_20250203_parcial_03.pkl',\n",
       " 'data/extracted_questions_20250203_parcial_04.pkl',\n",
       " 'data/extracted_questions_20250207_final.pkl',\n",
       " 'data/extracted_questions_with_embedded_references_20250212_before_formatting.pkl',\n",
       " 'data/extracted_questions_with_embedded_references_20250212_final.pkl',\n",
       " 'data/extracted_questions_with_embedded_references_20250214_final.pkl',\n",
       " 'data/extracted_questions_with_embedded_references_20250217_final_match_fixes.pkl',\n",
       " 'data/extracted_reference_match_results_20250214.pkl',\n",
       " 'data/llama_deduplicated_embedded_and_annoatated_reference_titles_20250213_before_fixes.pkl',\n",
       " 'data/llama_deduplicated_embedded_and_annotated_reference_titles_20250214_fixed.pkl',\n",
       " 'data/llama_deduplicated_embedded_and_annotated_reference_titles_20250214_fixed_after_match.pkl',\n",
       " 'data/llama_deduplicated_embedded_and_annotated_reference_titles_20250217_remove_last_dup.pkl',\n",
       " 'data/llama_deduplicated_embedded_reference_titles_20250213_fixed.pkl',\n",
       " 'data/llama_deduplicated_reference_titles_20250205_02.pkl',\n",
       " 'data/llama_deduplicated_reference_titles_20250210.pkl',\n",
       " 'data/llama_deduplicated_reference_titles_20250210_fixed.pkl',\n",
       " 'data/passage_paths_teste_normas_new_full_20250122_114126.pkl',\n",
       " 'data/questions_fix_20250220.pkl',\n",
       " 'data/question_references_matches_20250217.pkl',\n",
       " 'data/ragas_total_normas_acórdãos_full_alternative_references_20250122_010614.pkl',\n",
       " 'data/ragas_total_normas_full_alternative_references_20250122_010614.pkl',\n",
       " 'data/ragas_total_normas_new_full_alternative_references_20250122_114126.pkl',\n",
       " 'data/teste_normas_acordaos_full_20250122_010614.pkl',\n",
       " 'data/teste_normas_full_20250122_010614.pkl',\n",
       " 'data/teste_normas_new_full_20250122_114126.pkl']"
      ]
     },
     "execution_count": 3,
     "metadata": {},
     "output_type": "execute_result"
    }
   ],
   "source": [
    "glob.glob(DATA_PATH + \"*.pkl\")"
   ]
  },
  {
   "cell_type": "code",
   "execution_count": 5,
   "id": "b83a3dee-2591-4822-87fb-04b8e7327055",
   "metadata": {},
   "outputs": [],
   "source": [
    "with open(DATA_PATH + \"extracted_questions_with_embedded_references_20250217_final_match_fixes.pkl\", \"rb\") as input_file:\n",
    "    questions = pickle.load(input_file)"
   ]
  },
  {
   "cell_type": "code",
   "execution_count": 6,
   "id": "8b1cd4b2-909c-4746-a1fa-6cc8bda89998",
   "metadata": {},
   "outputs": [],
   "source": [
    "with open(DATA_PATH + \"questions_fix_20250220.pkl\", \"rb\") as input_file:\n",
    "    questions_fixed = pickle.load(input_file)"
   ]
  },
  {
   "cell_type": "code",
   "execution_count": 12,
   "id": "885564f1-5464-4725-bc8d-d5764d9ae579",
   "metadata": {
    "scrolled": true
   },
   "outputs": [
    {
     "name": "stdout",
     "output_type": "stream",
     "text": [
      "4 — Contribuinte, que participou de quadro societário de sociedade anônima ou que foi associado exercício de 2024? != Contribuinte, que participou de quadro societário de sociedade anônima ou que foi associado de cooperativa em 2023, deve apresentar, por esses motivos, a Declaração de Ajuste Anual do exercício de 2024?\n",
      "5 — Contribuinte que constou como responsável perante a Secretaria Especial da Receita Federal de 2024? != Contribuinte que constou como responsável perante a Secretaria Especial da Receita Federal do Brasil (RFB) por Cadastro Nacional da Pessoa Jurídica (CNPJ) de Associações (bairros, creches, clubes etc.) no ano-calendário de 2023, deve apresentar a Declaração de Ajuste Anual do exercício de 2024?\n",
      "7 — Para verificação da obrigatoriedade de apresentação da Declaração de Ajuste Anual, qual é o apresentar a declaração nos últimos cinco anos? != Para verificação da obrigatoriedade de apresentação da Declaração de Ajuste Anual, qual é o critério a ser utilizado para avaliar os bens e direitos, no caso de contribuinte dispensado de apresentar a declaração nos últimos cinco anos?\n",
      "8 — A posse ou a propriedade de bens e direitos relativos à atividade rural de valor superior a do exercício de 2024? != A posse ou a propriedade de bens e direitos relativos à atividade rural de valor superior a R$ 800.000,00, exceto terra nua, obriga o contribuinte à apresentação da Declaração de Ajuste Anual do exercício de 2024?\n",
      "13 — Um cônjuge ou companheiro que apresenta declaração utilizando-se das deduções legais utilizando-se do desconto simplificado e não incluiu tal dependente? != Um cônjuge ou companheiro que apresenta declaração utilizando-se das deduções legais pode incluir um dependente comum se o outro cônjuge ou companheiro apresentou a declaração utilizando-se do desconto simplificado e não incluiu tal dependente?\n",
      "16 — O contribuinte que em 2023 recebeu rendimentos tributáveis na Declaração de Ajuste Anual simplificado? != O contribuinte que em 2023 recebeu rendimentos tributáveis na Declaração de Ajuste Anual e obteve receita da atividade rural, mas com resultado negativo (prejuízo), pode optar pelo desconto simplificado?\n",
      "47 — O contribuinte pode retificar a sua declaração, relativa ao ano-calendário de 2023, a fim de simplificado? != O contribuinte pode retificar a sua declaração, relativa ao ano-calendário de 2023, a fim de incluir ou alterar os prejuízos acumulados na atividade rural ainda que tenha optado pelo desconto simplificado?\n",
      "52 — Contribuinte, com 65 anos ou mais, que não utilizou na declaração a parcela de isenção declaração para se utilizar desse benefício? != Contribuinte, com 65 anos ou mais, que não utilizou na declaração a parcela de isenção mensal relativa aos proventos de aposentadoria ou pensão a que tem direito, pode retificar a sua declaração para se utilizar desse benefício?\n",
      "53 — Como deve proceder o contribuinte que sofreu retenção na fonte sobre verbas especiais (PDV)? != Como deve proceder o contribuinte que sofreu retenção na fonte sobre verbas especiais indenizatórias pagas em decorrência de incentivo à adesão a Programa de Desligamento Voluntário (PDV)?\n",
      "54 — Erros na Declaração de Bens e Direitos ou na Declaração de Dívidas e Ônus Reais, que não corrigidos na próxima declaração? != Erros na Declaração de Bens e Direitos ou na Declaração de Dívidas e Ônus Reais, que não influenciem no saldo de imposto a pagar ou a restituir, precisam ser retificados ou podem ser corrigidos na próxima declaração?\n",
      "78 — Qual é o tratamento tributário dos rendimentos produzidos pelos bens adquiridos em parcial de bens? != Qual é o tratamento tributário dos rendimentos produzidos pelos bens adquiridos em condomínio por contribuintes que venham a se casar posteriormente pelo regime de comunhão parcial de bens?\n",
      "89 — O imposto referente a aluguel de imóvel possuído em condomínio ou em decorrência da em sua declaração o valor do imposto pago sobre sua parte? != O imposto referente a aluguel de imóvel possuído em condomínio ou em decorrência da sociedade conjugal foi pago em nome de um dos proprietários. Pode o outro proprietário compensar em sua declaração o valor do imposto pago sobre sua parte?\n",
      "92 — É dispensável o alvará judicial na restituição, ao cônjuge viúvo ou aos herdeiros do falecido, inventário? != É dispensável o alvará judicial na restituição, ao cônjuge viúvo ou aos herdeiros do falecido, do imposto sobre a renda não recebido em vida pelo titular, quando já tenha sido encerrado o inventário?\n",
      "116 — Quando se inicia nova contagem para estabelecer a condição de residente ou de não residente 12 meses, sem alterar tal condição? != Quando se inicia nova contagem para estabelecer a condição de residente ou de não residente de pessoa física que ingressou e se ausentou do Brasil mais de uma vez dentro de um período de 12 meses, sem alterar tal condição?\n",
      "120 — Quem esteve ausente do Brasil por vários anos, perdendo a condição de residente, poderá o período em que esteve residente no exterior? != Quem esteve ausente do Brasil por vários anos, perdendo a condição de residente, poderá regressar ao país trazendo suas economias e bens adquiridos no exterior sem qualquer incidência do imposto sobre a renda, por ser não residente e nem contribuinte residente no Brasil durante todo o período em que esteve residente no exterior?\n",
      "132 — Como são tributados os benefícios ou resgates de previdência complementar e Fundo de beneficiário tenha 65 anos ou mais? != Como são tributados os benefícios ou resgates de previdência complementar e Fundo de Aposentadoria Programada Individual (Fapi) recebidos por não residente no Brasil, mesmo que o beneficiário tenha 65 anos ou mais?\n",
      "133 — Como são tributados os rendimentos recebidos, de fonte pagadora situada no Brasil, por não aposentadoria? != Como são tributados os rendimentos recebidos, de fonte pagadora situada no Brasil, por não residente a título de pensão alimentícia, pensão por morte ou invalidez permanente ou de aposentadoria?\n",
      "146 — Religiosos, missionários, pesquisadores e professores não residentes, trabalhando no Brasil, do Imposto sobre a Renda no Brasil? != Religiosos, missionários, pesquisadores e professores não residentes, trabalhando no Brasil, e recebendo proventos diretamente de entidades e empresas sediadas no exterior, são contribuintes do Imposto sobre a Renda no Brasil?\n",
      "147 — Qual é o tratamento tributário dos rendimentos auferidos por cientistas, professores, ministrar aulas e conferências? != Qual é o tratamento tributário dos rendimentos auferidos por cientistas, professores, pesquisadores e técnicos que ingressam no Brasil para o fim específico de prestar serviços ou ministrar aulas e conferências?\n",
      "148 — Qual é o tratamento dos rendimentos auferidos por funcionário ou servidor residente no pela ONU ou suas Agências Especializadas? != Qual é o tratamento dos rendimentos auferidos por funcionário ou servidor residente no Brasil, de organizações internacionais situadas no Brasil ou no exterior, e por peritos contratados pela ONU ou suas Agências Especializadas?\n",
      "162 — Qual é o tratamento tributário para a pessoa física residente no Brasil, mas que se ausentou moeda estrangeira, de autarquias ou repartições do governo brasileiro situados no exterior? != Qual é o tratamento tributário para a pessoa física residente no Brasil, mas que se ausentou do território nacional para prestar serviços no exterior, em relação aos rendimentos recebidos, em moeda estrangeira, de autarquias ou repartições do governo brasileiro situados no exterior?\n",
      "165 — A pessoa física que se ausenta do país pode optar pela manutenção da condição de residente exterior? != A pessoa física que se ausenta do país pode optar pela manutenção da condição de residente no Brasil para fins tributários, ainda que preencha os requisitos para ser considerada residente no exterior?\n",
      "168 — Como são tributados os rendimentos do trabalho assalariado, auferidos por residente no país? != Como são tributados os rendimentos do trabalho assalariado, auferidos por residente no Brasil, que saiu do país temporariamente para prestar serviços com vínculo empregatício em outro país?\n",
      "169 — Qual é o regime de tributação dos rendimentos do trabalho pagos por fontes situadas no estabelecimento de ensino superior, técnico ou equivalente? != Qual é o regime de tributação dos rendimentos do trabalho pagos por fontes situadas no Brasil a servidores ou empregados brasileiros que estejam no exterior por motivo de estudos em estabelecimento de ensino superior, técnico ou equivalente?\n",
      "174 — Não residente no Brasil, ainda que se enquadre em qualquer das hipóteses de obrigatoriedade apresentá-la? != Não residente no Brasil, ainda que se enquadre em qualquer das hipóteses de obrigatoriedade de apresentação da Declaração de Ajuste Anual para o residente no Brasil, está obrigado a apresentá-la?\n",
      "181 — Qual é o tratamento aplicável às importâncias recebidas a título de residência médica ou por complementação de estudo ou treinamento e aperfeiçoamento? != Qual é o tratamento aplicável às importâncias recebidas a título de residência médica ou por estágio remunerado em hospitais, laboratórios, centro de pesquisa e universidades, para complementação de estudo ou treinamento e aperfeiçoamento?\n",
      "182 — Como são tributados os rendimentos de sócios ou titular de empresa optante pelo Regime Empresas de Pequeno Porte - Simples Nacional? != Como são tributados os rendimentos de sócios ou titular de empresa optante pelo Regime Especial Unificado de Arrecadação de Tributos Contribuições devidos pelas Microempresas e Empresas de Pequeno Porte - Simples Nacional?\n",
      "183 — Como são tributados os rendimentos de titular de empresa optante pelo Regime Especial Pequeno Porte - Simples Nacional, na condição de Microempreendedor Individual (MEI)? != Como são tributados os rendimentos de titular de empresa optante pelo Regime Especial Unificado de Arrecadação de Tributos e Contribuições devidos pelas Microempresas e Empresas de Pequeno Porte - Simples Nacional, na condição de Microempreendedor Individual (MEI)?\n",
      "191 — Como devem ser tributados os rendimentos oriundos da prestação de serviços efetuados aplicativos)? != Como devem ser tributados os rendimentos oriundos da prestação de serviços efetuados com a utilização de veículos, abrangendo transporte de passageiros e de cargas (inclusive por aplicativos)?\n",
      "195 — Contribuinte que recebe da fonte pagadora prêmios em bens, a título de produtividade, correspondente? != Contribuinte que recebe da fonte pagadora prêmios em bens, a título de produtividade, promoção de vendas, eficiência, não ocorrência de acidentes etc., deve oferecer à tributação o valor correspondente?\n",
      "212 — Como apurar o rendimento tributável de aluguel, inclusive quando o contrato de locação pelo locatário? != Como apurar o rendimento tributável de aluguel, inclusive quando o contrato de locação contenha cláusula que admita a sua compensação com as despesas efetuadas com benfeitorias pelo locatário?\n",
      "220 — Podem os contribuintes casados no regime de comunhão de bens optar por tributar 100% dos rendimentos produzidos pelos demais bens comuns na declaração de cada um dos cônjuges? != Podem os contribuintes casados no regime de comunhão de bens optar por tributar 100% dos rendimentos produzidos por um dos bens comuns na declaração de um dos cônjuges e 50% dos rendimentos produzidos pelos demais bens comuns na declaração de cada um dos cônjuges?\n",
      "233 — Qual é o tratamento tributário dos valores pagos por companhia seguradora a autônomo que de acidente pessoal? != Qual é o tratamento tributário dos valores pagos por companhia seguradora a autônomo que faz seguro para ter garantido o seu rendimento mensal em caso de inatividade temporária, em razão de acidente pessoal?\n",
      "238 — É tributável o salário recebido em conjunto com as indenizações previstas no Decreto-Lei nº Fundo de Garantia do Tempo de Serviço - FGTS decorrentes da rescisão de contrato de trabalho? != É tributável o salário recebido em conjunto com as indenizações previstas no Decreto-Lei nº 5.452, de 1º de maio de 1943 - Consolidação das Leis do Trabalho - CLT e o montante referente ao Fundo de Garantia do Tempo de Serviço - FGTS decorrentes da rescisão de contrato de trabalho?\n",
      "241 — Contribuinte que adere a Programa de Demissão Voluntária (PDV) e, na mesma ocasião, considerar os valores do resgate da previdência também isentos? != Contribuinte que adere a Programa de Demissão Voluntária (PDV) e, na mesma ocasião, resgata valores pagos a entidade de previdência complementar da empresa da qual fazia parte, pode considerar os valores do resgate da previdência também isentos?\n",
      "246 — São tributáveis os valores ressarcidos ou pagos pelas empresas a título de complementação por acidente de trabalho etc.? != São tributáveis os valores ressarcidos ou pagos pelas empresas a título de complementação de rendimento, tais como seguro-desemprego, auxílio-creche, auxílio-doença, auxílio-funeral, auxílio pré-escolar, prêmio assiduidade, gratificações por quebra de caixa, indenização adicional por acidente de trabalho etc.?\n",
      "250 — Os rendimentos recebidos acumuladamente relativos a aposentadoria, pensão, transferência art. 6º da Lei nº 7.713, de 22 de dezembro de 1988? != Os rendimentos recebidos acumuladamente relativos a aposentadoria, pensão, transferência para a reserva remunerada ou reforma pagos pela Previdência Social da União, dos estados, do Distrito Federal e dos municípios ou por qualquer pessoa jurídica de direito público interno, ou ainda, por entidade de previdência complementar, estão sujeitos à isenção prevista no inciso XV do art. 6º da Lei nº 7.713, de 22 de dezembro de 1988?\n",
      "251 — Qual é o tratamento tributário de diferenças salariais recebidas acumuladamente, de pessoa falecida? != Qual é o tratamento tributário de diferenças salariais recebidas acumuladamente, de rendimentos de anos anteriores, por força de decisão judicial, quando o beneficiário da ação é a pessoa falecida?\n",
      "258 — Qual é o destino a ser dado aos imóveis integrantes do ativo (patrimônio) da empresa loteamentos, ocorrer o término da equiparação a pessoa jurídica? != Qual é o destino a ser dado aos imóveis integrantes do ativo (patrimônio) da empresa individual quando, completado o prazo de 36 meses consecutivos sem promover incorporações ou loteamentos, ocorrer o término da equiparação a pessoa jurídica?\n",
      "273 — São isentas do imposto sobre a renda a indenização paga por despedida ou rescisão do e termos da legislação do Fundo de Garantia do Tempo de Serviço (FGTS) e o aviso prévio? != São isentas do imposto sobre a renda a indenização paga por despedida ou rescisão do contrato de trabalho, e as importâncias recebidas pelos empregados e seus dependentes nos limites e termos da legislação do Fundo de Garantia do Tempo de Serviço (FGTS) e o aviso prévio?\n",
      "274 — Como são tributados os lucros e dividendos apurados na escrituração comercial em 1993 e jurídicas tributadas com base no lucro real ou presumido? != Como são tributados os lucros e dividendos apurados na escrituração comercial em 1993 e os apurados a partir do mês de janeiro de 1996, distribuídos aos sócios em 2023 por pessoas jurídicas tributadas com base no lucro real ou presumido?\n",
      "279 — Valor inferior à parcela isenta de rendimentos de aposentadoria de maior de 65 anos recebida mês? != Valor inferior à parcela isenta de rendimentos de aposentadoria de maior de 65 anos recebida em determinado mês, pode ser compensada com valor superior à parcela isenta recebida em outro mês?\n",
      "284 — Qual é o tratamento tributário aplicável ao Programa de Demissão Voluntária (PDV) recebido requerer a aposentadoria? != Qual é o tratamento tributário aplicável ao Programa de Demissão Voluntária (PDV) recebido por empregado já aposentado pela previdência oficial ou que possua o tempo necessário para requerer a aposentadoria?\n",
      "289 — Estão isentos os valores pagos em espécie pelos estados, Distrito Federal e municípios, serviços pelo consumidor? != Estão isentos os valores pagos em espécie pelos estados, Distrito Federal e municípios, relativos ao Imposto sobre Operações relativas à Circulação de Mercadorias e sobre Prestações de Serviços de Transporte Interestadual e Intermunicipal e de Comunicação (ICMS) e ao Imposto sobre Serviços de Qualquer Natureza (ISS), no âmbito de programas de concessão de crédito voltados ao estímulo à solicitação de documento fiscal (cupons e notas fiscais) na aquisição de mercadorias e serviços pelo consumidor?\n",
      "292 — Qual é o tratamento tributário a que está sujeito o valor do saldo devedor correspondente a falecimento do mutuário? != Qual é o tratamento tributário a que está sujeito o valor do saldo devedor correspondente a financiamento para aquisição de casa própria, quitado em virtude de invalidez permanente ou falecimento do mutuário?\n",
      "304 — São tributáveis os valores pagos, creditados, entregues, empregados ou remetidos para o viagens? != São tributáveis os valores pagos, creditados, entregues, empregados ou remetidos para o exterior, destinados à cobertura de gastos pessoais de pessoas físicas residentes no País, em viagens?\n",
      "306 — São tributáveis os valores pagos, creditados, empregados, entregues ou remetidos a empresa desprovida de finalidade lucrativa em seu país de domicílio? != São tributáveis os valores pagos, creditados, empregados, entregues ou remetidos a empresa domiciliada no exterior, qualificada como instituição educacional ou de assistência social desprovida de finalidade lucrativa em seu país de domicílio?\n",
      "308 — São tributáveis os valores pagos, creditados, empregados, entregues ou remetidos ao ou de seus dependentes? != São tributáveis os valores pagos, creditados, empregados, entregues ou remetidos ao exterior, para cobertura de despesas médico-hospitalares com tratamento de saúde do remetente ou de seus dependentes?\n",
      "310 — São tributáveis os rendimentos, os ganhos de capital e os demais proventos pagos, jurídica residente ou domiciliada no exterior? != São tributáveis os rendimentos, os ganhos de capital e os demais proventos pagos, creditados, entregues, empregados ou remetidos, por não residente no Brasil, a pessoa física ou jurídica residente ou domiciliada no exterior?\n",
      "328 — A contribuição à previdência oficial, descontada de rendimentos isentos do próprio Declaração de Ajuste Anual? != A contribuição à previdência oficial, descontada de rendimentos isentos do próprio contribuinte ou por este recolhida na condição de contribuinte individual (autônomo), é dedutível na Declaração de Ajuste Anual?\n",
      "332 — Contribuinte que, em parte do ano-calendário, recebeu rendimentos do trabalho assalariado na condição de contribuinte individual? != Contribuinte que, em parte do ano-calendário, recebeu rendimentos do trabalho assalariado e, durante o período em que ficou desempregado, contribuiu como contribuinte individual (autônomo), pode deduzir, além da contribuição previdenciária descontada do salário, aquela paga na condição de contribuinte individual?\n",
      "364 — Os valores pagos na prestação dos serviços de coleta, seleção e armazenagem de células- Ajuste Anual? != Os valores pagos na prestação dos serviços de coleta, seleção e armazenagem de células- tronco oriundas de cordão umbilical são dedutíveis como despesas medicas na Declaração de Ajuste Anual?\n",
      "372 — São dedutíveis os gastos com transfusão de sangue, bem como os pagamentos feitos a contribuinte e seus dependentes? != São dedutíveis os gastos com transfusão de sangue, bem como os pagamentos feitos a laboratórios de análises clínicas e radiológicas, correspondentes a serviços prestados ao contribuinte e seus dependentes?\n",
      "385 — O contribuinte, titular de plano de saúde, pode deduzir o valor integral pago ao plano, incluindo os valores referentes ao cônjuge e aos filhos quando estes declarem em separado? != O contribuinte, titular de plano de saúde, pode deduzir o valor integral pago ao plano, incluindo os valores referentes ao cônjuge e aos filhos quando estes declarem em separado? E a pessoa física que constou como beneficiário em plano de saúde de outra pode deduzir as suas despesas?\n",
      "397 — Ocorrendo o divórcio ou separação judicial durante o ano-calendário, o contribuinte que não divórcio? != Ocorrendo o divórcio ou separação judicial durante o ano-calendário, o contribuinte que não detém a guarda dos filhos pode deduzir as despesas com instrução com eles efetuadas antes do divórcio?\n",
      "404 — Os pagamentos de aulas de idioma estrangeiro, música, dança, natação, ginástica, dicção, instrução? != Os pagamentos de aulas de idioma estrangeiro, música, dança, natação, ginástica, dicção, corte e costura, aulas de trânsito, tênis ou pilotagem podem ser deduzidos como despesas com instrução?\n",
      "410 — Contribuinte assalariado que recebe do empregador ou de entidade a que esteja filiado, auxílio despesas efetivamente realizadas? != Contribuinte assalariado que recebe do empregador ou de entidade a que esteja filiado, auxílio para pagar despesas com instrução própria e de seus dependentes, pode deduzir o total das despesas efetivamente realizadas?\n",
      "413 — Os gastos com construção de escola em imóvel do contribuinte, onde este exerce atividade dessa escola, podem ser deduzidos como despesas de instrução de menores pobres? != Os gastos com construção de escola em imóvel do contribuinte, onde este exerce atividade rural, assim como os dispêndios com pagamento de professor, para atender ao funcionamento dessa escola, podem ser deduzidos como despesas de instrução de menores pobres?\n",
      "424 — Podem ser deduzidas as despesas com aluguel, energia, água, gás, taxas, impostos, telefone, residência? != Podem ser deduzidas as despesas com aluguel, energia, água, gás, taxas, impostos, telefone, telefone celular, condomínio, quando o imóvel utilizado para a atividade profissional é também residência?\n",
      "437 — O contribuinte que auferir rendimentos da prestação de serviços de transporte de carga ou respectivamente, utilizando como dedução do livro-caixa o percentual excedente? != O contribuinte que auferir rendimentos da prestação de serviços de transporte de carga ou de passageiros, em veículo próprio, pode tributar rendimentos em percentual inferior a 10% e 60%, respectivamente, utilizando como dedução do livro-caixa o percentual excedente?\n",
      "440 — Em qual ano–calendário são deduzidos, na Declaração de Ajuste Anual, os honorários decorrentes de decisão judicial foram recebidos? != Em qual ano–calendário são deduzidos, na Declaração de Ajuste Anual, os honorários advocatícios pagos em ano–calendário posterior ou anterior àquele em que os rendimentos decorrentes de decisão judicial foram recebidos?\n",
      "443 — Quem optou pelo desconto simplificado também pode deduzir os gastos com os Fundos da audiovisual ou com incentivo ao desporto? != Quem optou pelo desconto simplificado também pode deduzir os gastos com os Fundos da Criança e do Adolescente, com os Fundos da Pessoa Idosa, com incentivos à cultura e à atividade audiovisual ou com incentivo ao desporto?\n",
      "446 — Qual é o tratamento dado, na Declaração de Ajuste Anual (DAA), aos imóveis objeto de imobiliárias? != Qual é o tratamento dado, na Declaração de Ajuste Anual (DAA), aos imóveis objeto de transações de pessoa física que for equiparada a pessoa jurídica pela prática de operações imobiliárias?\n",
      "449 — Como devem ser relacionados, na declaração de bens dos cônjuges, os bens ou direitos (DAA) em separado? != Como devem ser relacionados, na declaração de bens dos cônjuges, os bens ou direitos comuns que estejam em nome de apenas um deles e a opção for pela Declaração de Ajuste Anual (DAA) em separado?\n",
      "470 — Como declarar as aquisições efetuadas por meio de contrato particular de compra e venda cartório em outro ano-calendário? != Como declarar as aquisições efetuadas por meio de contrato particular de compra e venda ou contrato de gaveta, quando a aquisição ocorre num determinado ano-calendário e a escritura em cartório em outro ano-calendário?\n",
      "475 — Como deve proceder o contribuinte que, tendo escriturado as receitas e as despesas (e calendário? != Como deve proceder o contribuinte que, tendo escriturado as receitas e as despesas (e investimentos) da atividade rural, encontra insuficiência de caixa em qualquer mês do ano- calendário?\n",
      "505 — A receita auferida na venda de rebanho bovino anteriormente comprado, com permanência dias nos demais casos, é tributada na atividade rural? != A receita auferida na venda de rebanho bovino anteriormente comprado, com permanência em poder do contribuinte em prazo inferior a 52 dias, quando em regime de confinamento, ou 138 dias nos demais casos, é tributada na atividade rural?\n",
      "510 — Como deve proceder o contribuinte obrigado à apresentação da Declaração de Ajuste Anual destinados à exploração da atividade rural? != Como deve proceder o contribuinte obrigado à apresentação da Declaração de Ajuste Anual (DAA) e desobrigado do preenchimento do Demonstrativo da Atividade Rural, em relação aos bens destinados à exploração da atividade rural?\n",
      "513 — Considera-se receita da atividade rural o valor recebido em produtos rurais por proprietário da produção? != Considera-se receita da atividade rural o valor recebido em produtos rurais por proprietário de terra cedida, por exemplo, a usina de açúcar, quando esta assume os custos do plantio à colheita da produção?\n",
      "514 — Qual é o tratamento tributário da transferência dos bens e benfeitorias na herança, dissolução donatários? != Qual é o tratamento tributário da transferência dos bens e benfeitorias na herança, dissolução da sociedade conjugal ou doação, quando recebidos pelos sucessores legítimos, ex-cônjuges ou donatários?\n",
      "515 — Como deve o contribuinte tributar a variação ocorrida entre a data da venda e a do efetivo de cotação de produtos rurais? != Como deve o contribuinte tributar a variação ocorrida entre a data da venda e a do efetivo recebimento, no caso de alienação de imóvel rural com recebimento parcelado atualizado por índice de cotação de produtos rurais?\n",
      "516 — Como deve o contribuinte tributar a variação ocorrida entre a data da venda e a do efetivo atualizado por índice de cotação de produtos rurais? != Como deve o contribuinte tributar a variação ocorrida entre a data da venda e a do efetivo recebimento, no caso de alienação de bens móveis da atividade rural com recebimento parcelado atualizado por índice de cotação de produtos rurais?\n",
      "541 — Qual é o valor que pode ser considerado como despesa de custeio quando o proprietário rural percentual a título de habitação por força de contrato de trabalho? != Qual é o valor que pode ser considerado como despesa de custeio quando o proprietário rural desconta do valor total devido ao empregado, que mora em casa situada dentro do imóvel rural, um percentual a título de habitação por força de contrato de trabalho?\n",
      "563 — Contribuinte que vende um imóvel residencial e adquire a parte de outro imóvel residencial sobre a renda? != Contribuinte que vende um imóvel residencial e adquire a parte de outro imóvel residencial pertencente a outro condômino, de um condomínio no qual já é condômino, fica isento de imposto sobre a renda?\n",
      "567 — Qual é o tratamento tributário aplicável ao valor recebido por ex-cônjuge ou herdeiro referente ou herança? != Qual é o tratamento tributário aplicável ao valor recebido por ex-cônjuge ou herdeiro referente a reembolso de diferença no montante de bens e direitos que lhe cabiam em decorrência da meação ou herança?\n",
      "573 — Qual é o custo de aquisição de bens ou direitos adquiridos até 31/12/1991 e os adquiridos exercícios de 1992, ano-calendário de 1991, e seguintes? != Qual é o custo de aquisição de bens ou direitos adquiridos até 31/12/1991 e os adquiridos entre 01/01/1992 a 31/12/1995, no caso de contribuinte desobrigado de apresentar a declaração dos exercícios de 1992, ano-calendário de 1991, e seguintes?\n",
      "580 — Como proceder na hipótese de pagamento ao ex-proprietário do imóvel, onde localizada a estabelecida no contrato de compra e venda do imóvel? != Como proceder na hipótese de pagamento ao ex-proprietário do imóvel, onde localizada a jazida, de parcela da receita obtida com a lavra de recursos minerais, em virtude de obrigação estabelecida no contrato de compra e venda do imóvel?\n",
      "583 — Como é a tributação do ganho de capital quanto ao valor de antecipação e ao valor de será definido em data futura, com o implemento de condição suspensiva? != Como é a tributação do ganho de capital quanto ao valor de antecipação e ao valor de complementação de preço, na alienação de participações societárias, quando o valor de alienação será definido em data futura, com o implemento de condição suspensiva?\n",
      "600 — Como proceder quando a alienação do imóvel fica condicionada à aprovação de Habitação (SFH)? != Como proceder quando a alienação do imóvel fica condicionada à aprovação de financiamento por uma instituição financeira, com recursos fornecidos pelo Sistema Financeiro da Habitação (SFH)?\n",
      "601 — Como proceder quando o mutuário do Sistema Financeiro da Habitação (SFH) aliena o imóvel transferência do saldo devedor do financiamento? != Como proceder quando o mutuário do Sistema Financeiro da Habitação (SFH) aliena o imóvel financiado, por meio de documento particular, sem notificar o agente financeiro e sem haver transferência do saldo devedor do financiamento?\n",
      "614 — Nas operações de permuta de imóvel rural por outro imóvel rural, com ou sem benfeitorias, do Imposto sobre a Renda – RIR/2018, aprovado pelo Decreto nº 9.580, de 22 de novembro de 2018? != Nas operações de permuta de imóvel rural por outro imóvel rural, com ou sem benfeitorias, aplica-se o tratamento tributário de permuta, disposto no art. 132, inciso II, e § 2º do Regulamento do Imposto sobre a Renda – RIR/2018, aprovado pelo Decreto nº 9.580, de 22 de novembro de 2018?\n",
      "617 — Qual é o tratamento tributário dos ganhos de capital auferidos na alienação de bens ou em moeda estrangeira por pessoa física na condição de residente no Brasil? != Qual é o tratamento tributário dos ganhos de capital auferidos na alienação de bens ou direitos adquiridos e na liquidação ou resgate de aplicações financeiras realizadas até 31/12/2023 em moeda estrangeira por pessoa física na condição de residente no Brasil?\n",
      "618 — Qual o tratamento tributário para ganho de capital apurado na alienação de bens ou direitos estrangeira? != Qual o tratamento tributário para ganho de capital apurado na alienação de bens ou direitos e na liquidação ou resgate de aplicações financeiras, adquiridos, a qualquer título, em moeda estrangeira?\n",
      "619 — A isenção relativa às alienações de até R$ 35.000,00 realizadas dentro de um mês pode ser exemplo “Bonds”, contas remuneradas, “Certified Deposits” ou “Treasuris? != A isenção relativa às alienações de até R$ 35.000,00 realizadas dentro de um mês pode ser aplicada às liquidações ou resgates de aplicações financeiras mantidas no exterior, como por exemplo “Bonds”, contas remuneradas, “Certified Deposits” ou “Treasuris?\n",
      "623 — Como são considerados os rendimentos produzidos por aplicações financeiras em moeda estrangeira? != Como são considerados os rendimentos produzidos por aplicações financeiras em moeda estrangeira e o ganho de capital obtido na alienação de bens ou direitos adquiridos em moeda estrangeira?\n",
      "636 — Como apurar o ganho de capital quando o Valor da Terra Nua (VTN) de compra e o de e vendido após a sua entrega, porém no mesmo ano? != Como apurar o ganho de capital quando o Valor da Terra Nua (VTN) de compra e o de alienação são idênticos, como, por exemplo, para o imóvel adquirido antes da apresentação do Diat e vendido após a sua entrega, porém no mesmo ano?\n",
      "637 — Como apurar o ganho de capital se o contribuinte adquirir um imóvel rural, a partir de onde não se possa apurar o Valor da Terra Nua (VTN) de compra ou de venda, ou ambos? != Como apurar o ganho de capital se o contribuinte adquirir um imóvel rural, a partir de 01/01/1997, após a apresentação do Diat ou aliená-lo antes da sua entrega ou, em qualquer caso, onde não se possa apurar o Valor da Terra Nua (VTN) de compra ou de venda, ou ambos?\n",
      "638 — Consorciado que no ano-calendário foi contemplado e alienou o veículo pelo valor de apuração do ganho de capital? != Consorciado que no ano-calendário foi contemplado e alienou o veículo pelo valor de mercado. Para tanto, liberou a alienação fiduciária do veículo e assumiu a dívida do consórcio com a administradora, por meio de nota promissória. A dívida assumida integra o custo do veículo, para apuração do ganho de capital?\n",
      "639 — Proprietário de um imóvel adquire, mediante contrato particular, outro imóvel a ser enquadra na isenção de alienação do único imóvel por valor igual ou inferior a R$ 440.000,00? != Proprietário de um imóvel adquire, mediante contrato particular, outro imóvel a ser construído. A alienação do imóvel que possui, antes do recebimento daquele em construção, se enquadra na isenção de alienação do único imóvel por valor igual ou inferior a R$ 440.000,00?\n",
      "640 — Para as alienações decorrentes de adiantamento da legítima, dissolução da sociedade valor, do único imóvel e dos bens adquiridos até 1988? != Para as alienações decorrentes de adiantamento da legítima, dissolução da sociedade conjugal ou união estável e sucessão causa mortis, aplicam-se as isenções do bem de pequeno valor, do único imóvel e dos bens adquiridos até 1988?\n",
      "641 — Para as alienações decorrentes de adiantamento da legítima, dissolução da sociedade a Lei nº 11.196, de 21 de novembro de 2005? != Para as alienações decorrentes de adiantamento da legítima, dissolução da sociedade conjugal ou união estável e sucessão causa mortis, aplicam-se os fatores de  redução de que trata a Lei nº 11.196, de 21 de novembro de 2005?\n",
      "646 — Um casal, cujo regime de casamento é o de comunhão parcial de bens, ou companheiros em imóvel comum faz jus à isenção de alienação do único imóvel? != Um casal, cujo regime de casamento é o de comunhão parcial de bens, ou companheiros em união estável, alienou/alienaram um bem imóvel comum, sendo que um dos cônjuges possui outro bem imóvel adquirido antes do casamento. O cônjuge ou companheiro que possui apenas o bem imóvel comum faz jus à isenção de alienação do único imóvel?\n",
      "649 — Qual é o custo de aquisição para os imóveis adquiridos em 2023 por meio do Sistema financiamento direto com a construtora? != Qual é o custo de aquisição para os imóveis adquiridos em 2023 por meio do Sistema Financeiro da Habitação (SFH), Carta de Crédito, Programa de Arrendamento Residencial (PAR) ou financiamento direto com a construtora?\n",
      "650 — No caso de alienação em que o Valor da Terra Nua (VTN) do Diat do ano da alienação for entre os valores? != No caso de alienação em que o Valor da Terra Nua (VTN) do Diat do ano da alienação for menor que o valor efetivo da venda da terra nua do imóvel rural, como deve ser declarada a diferença entre os valores?\n",
      "658 — O ganho de capital apurado por contribuinte que alienou o único imóvel em 2023, por valor isenção do único imóvel? != O ganho de capital apurado por contribuinte que alienou o único imóvel em 2023, por valor inferior a R$ 440.000,00, adquirido por meio de dação em pagamento no ano anterior, faz jus à isenção do único imóvel?\n",
      "659 — Contribuinte que possui a copropriedade de imóvel e ainda possui outro imóvel em seu exclusão do ganho de capital? != Contribuinte que possui a copropriedade de imóvel e ainda possui outro imóvel em seu próprio nome, ao vender qualquer um deles pode considerá-lo \"único imóvel\" para efeito de exclusão do ganho de capital?\n",
      "660 — Contribuinte possuía dois terrenos contíguos, promoveu a unificação e sobre eles construiu ganho de capital na alienação do único imóvel? != Contribuinte possuía dois terrenos contíguos, promoveu a unificação e sobre eles construiu uma residência, passando a ser proprietário desse único imóvel. Pode usufruir da exclusão do ganho de capital na alienação do único imóvel?\n",
      "661 — Contribuinte, proprietário de um único imóvel, que não alienou nenhum imóvel nos últimos 5 contribuinte tem direito nessa operação à isenção de alienação do único imóvel? != Contribuinte, proprietário de um único imóvel, que não alienou nenhum imóvel nos últimos 5 anos, aliena uma parte desse imóvel, permanecendo na propriedade da área remanescente. Tal contribuinte tem direito nessa operação à isenção de alienação do único imóvel?\n",
      "669 — A pessoa física equiparada a pessoa jurídica em razão de operações com imóveis, sofre dupla de 26 de dezembro de 1995? != A pessoa física equiparada a pessoa jurídica em razão de operações com imóveis, sofre dupla tributação de seus lucros se efetuar alienação eventual de imóveis sujeita ao regime da Lei nº 9.250, de 26 de dezembro de 1995?\n",
      "670 — Na hipótese de falecimento de pessoa física equiparada a pessoa jurídica pela promoção de cujus, em relação aos créditos vincendos e aos remanescentes? != Na hipótese de falecimento de pessoa física equiparada a pessoa jurídica pela promoção de loteamento, como fica a situação fiscal do cônjuge meeiro, casado em comunhão de bens com o de cujus, em relação aos créditos vincendos e aos remanescentes?\n",
      "685 — O valor do imposto retido na fonte durante o ano-calendário sobre rendimentos de day trade calendário seguinte? != O valor do imposto retido na fonte durante o ano-calendário sobre rendimentos de day trade pode ser compensado com o imposto incidente sobre ganhos auferidos em meses do ano- calendário seguinte?\n",
      "715 — No caso de alienação de ações em pregão ao final de determinado mês, que resulte em momento do recolhimento do imposto? != No caso de alienação de ações em pregão ao final de determinado mês, que resulte em liquidação financeira da operação no mês subsequente, quando ocorre o fato gerador e qual o momento do recolhimento do imposto?\n"
     ]
    }
   ],
   "source": [
    "different_questions = []\n",
    "\n",
    "for i in range(len(questions)):\n",
    "    if questions[i]['question_text'] != questions_fixed[i]['question_text']:\n",
    "        different_questions.append(i + 1)\n",
    "        print(f\"{i + 1} — {questions[i]['question_text']} != {questions_fixed[i]['question_text']}\")\n",
    "\n",
    "        questions[i]['question_text'] = questions_fixed[i]['question_text']"
   ]
  },
  {
   "cell_type": "code",
   "execution_count": 11,
   "id": "4ec65d83-006c-4cdd-8eca-0d228100b2cd",
   "metadata": {},
   "outputs": [
    {
     "data": {
      "text/plain": [
       "102"
      ]
     },
     "execution_count": 11,
     "metadata": {},
     "output_type": "execute_result"
    }
   ],
   "source": [
    "len(different_questions)"
   ]
  },
  {
   "cell_type": "code",
   "execution_count": 17,
   "id": "a113c452-e5fa-40bb-aecc-aec22b00650f",
   "metadata": {},
   "outputs": [],
   "source": [
    "import numpy as np"
   ]
  },
  {
   "cell_type": "code",
   "execution_count": 18,
   "id": "0df58572-5d11-400c-9264-0d559ad699f6",
   "metadata": {},
   "outputs": [
    {
     "data": {
      "text/plain": [
       "array([  4,   5,   7,   8,  13,  16,  47,  52,  53,  54,  78,  89,  92,\n",
       "       116, 120, 132, 133, 146, 147, 148, 162, 165, 168, 169, 174, 181,\n",
       "       182, 183, 191, 195, 212, 220, 233, 238, 241, 246, 250, 251, 258,\n",
       "       273, 274, 279, 284, 289, 292, 304, 306, 308, 310, 328, 332, 364,\n",
       "       372, 385, 397, 404, 410, 413, 424, 437, 440, 443, 446, 449, 470,\n",
       "       475, 505, 510, 513, 514, 515, 516, 541, 563, 567, 573, 580, 583,\n",
       "       600, 601, 614, 617, 618, 619, 623, 636, 637, 638, 639, 640, 641,\n",
       "       646, 649, 650, 658, 659, 660, 661, 669, 670, 685, 715])"
      ]
     },
     "execution_count": 18,
     "metadata": {},
     "output_type": "execute_result"
    }
   ],
   "source": [
    "np.array(different_questions)"
   ]
  },
  {
   "cell_type": "code",
   "execution_count": 19,
   "id": "c6191acb-4f7b-4cdb-9e20-87eaceeee315",
   "metadata": {},
   "outputs": [],
   "source": [
    "import json"
   ]
  },
  {
   "cell_type": "code",
   "execution_count": 24,
   "id": "7a1e4d9a-99e9-4028-8df6-20c4ed295624",
   "metadata": {},
   "outputs": [
    {
     "data": {
      "text/plain": [
       "{'question_number': '002',\n",
       " 'question_summary': 'PESSOA FÍSICA DESOBRIGADA',\n",
       " 'question_text': 'Pessoa física desobrigada pode apresentar a Declaração de Ajuste Anual (DAA)?',\n",
       " 'answer': ['Sim. A pessoa física, ainda que desobrigada, pode apresentar a Declaração de Ajuste Anual (DAA), sendo',\n",
       "  'vedado a um mesmo contribuinte constar simultaneamente em mais de uma Declaração de Ajuste Anual, seja',\n",
       "  'como titular ou dependente, exceto nos casos de alteração na relação de dependência no ano-calendário de',\n",
       "  '2023.',\n",
       "  '(Instrução Normativa RFB nº 2.178, de 5 de março de 2024, art. 2º, § 2º)',\n",
       "  'Consulte as perguntas 001 e 174'],\n",
       " 'answer_cleaned': ['Sim. A pessoa física, ainda que desobrigada, pode apresentar a Declaração de Ajuste Anual (DAA), sendo',\n",
       "  'vedado a um mesmo contribuinte constar simultaneamente em mais de uma Declaração de Ajuste Anual, seja',\n",
       "  'como titular ou dependente, exceto nos casos de alteração na relação de dependência no ano-calendário de',\n",
       "  '2023.',\n",
       "  '',\n",
       "  ''],\n",
       " 'references': ['Instrução Normativa RFB nº 2.178, de 5 de março de 2024, art. 2º, § 2º'],\n",
       " 'linked_questions': array(['001', '174'], dtype='<U32'),\n",
       " 'formatted_references': [{'título': 'Instrução Normativa RFB nº 2.178, de 5 de março de 2024',\n",
       "   'artigos': [{'artigo': '2º', 'incisos': [], 'parágrafos': ['2º']}],\n",
       "   'anexos': []}],\n",
       " 'embedded_references': [],\n",
       " 'formatted_embedded_references': None}"
      ]
     },
     "execution_count": 24,
     "metadata": {},
     "output_type": "execute_result"
    }
   ],
   "source": [
    "questions[1]"
   ]
  },
  {
   "cell_type": "code",
   "execution_count": 25,
   "id": "7bf364c5-fc70-42db-878d-bfeca6bf294a",
   "metadata": {},
   "outputs": [],
   "source": [
    "for i in range(len(questions)):\n",
    "    questions[i]['linked_questions'] = list(questions[i]['linked_questions'])"
   ]
  },
  {
   "cell_type": "code",
   "execution_count": 26,
   "id": "f4159b34-4a64-4052-a22b-1f894246f635",
   "metadata": {},
   "outputs": [
    {
     "data": {
      "text/plain": [
       "{'question_number': '002',\n",
       " 'question_summary': 'PESSOA FÍSICA DESOBRIGADA',\n",
       " 'question_text': 'Pessoa física desobrigada pode apresentar a Declaração de Ajuste Anual (DAA)?',\n",
       " 'answer': ['Sim. A pessoa física, ainda que desobrigada, pode apresentar a Declaração de Ajuste Anual (DAA), sendo',\n",
       "  'vedado a um mesmo contribuinte constar simultaneamente em mais de uma Declaração de Ajuste Anual, seja',\n",
       "  'como titular ou dependente, exceto nos casos de alteração na relação de dependência no ano-calendário de',\n",
       "  '2023.',\n",
       "  '(Instrução Normativa RFB nº 2.178, de 5 de março de 2024, art. 2º, § 2º)',\n",
       "  'Consulte as perguntas 001 e 174'],\n",
       " 'answer_cleaned': ['Sim. A pessoa física, ainda que desobrigada, pode apresentar a Declaração de Ajuste Anual (DAA), sendo',\n",
       "  'vedado a um mesmo contribuinte constar simultaneamente em mais de uma Declaração de Ajuste Anual, seja',\n",
       "  'como titular ou dependente, exceto nos casos de alteração na relação de dependência no ano-calendário de',\n",
       "  '2023.',\n",
       "  '',\n",
       "  ''],\n",
       " 'references': ['Instrução Normativa RFB nº 2.178, de 5 de março de 2024, art. 2º, § 2º'],\n",
       " 'linked_questions': ['001', '174'],\n",
       " 'formatted_references': [{'título': 'Instrução Normativa RFB nº 2.178, de 5 de março de 2024',\n",
       "   'artigos': [{'artigo': '2º', 'incisos': [], 'parágrafos': ['2º']}],\n",
       "   'anexos': []}],\n",
       " 'embedded_references': [],\n",
       " 'formatted_embedded_references': None}"
      ]
     },
     "execution_count": 26,
     "metadata": {},
     "output_type": "execute_result"
    }
   ],
   "source": [
    "questions[1]"
   ]
  },
  {
   "cell_type": "code",
   "execution_count": 27,
   "id": "f499a4de-3170-4726-8a4c-9d5d5f6b9539",
   "metadata": {},
   "outputs": [],
   "source": [
    "with open(DATA_PATH + \"extracted_questions_with_embedded_references_20250220_question_extraction_fix.pkl\", \"wb\") as output_file:\n",
    "    pickle.dump(questions, output_file, pickle.HIGHEST_PROTOCOL)"
   ]
  },
  {
   "cell_type": "code",
   "execution_count": 28,
   "id": "ff288a70-07b1-41c7-be86-2e10f95f2142",
   "metadata": {},
   "outputs": [],
   "source": [
    "with open(DATA_PATH + \"extracted_questions_with_embedded_references_20250220_question_extraction_fix.json\", \"w\", encoding=\"utf-8\") as json_file:\n",
    "    json.dump(questions, json_file, indent=4, ensure_ascii=False)"
   ]
  }
 ],
 "metadata": {
  "kernelspec": {
   "display_name": "Python 3 (ipykernel)",
   "language": "python",
   "name": "python3"
  },
  "language_info": {
   "codemirror_mode": {
    "name": "ipython",
    "version": 3
   },
   "file_extension": ".py",
   "mimetype": "text/x-python",
   "name": "python",
   "nbconvert_exporter": "python",
   "pygments_lexer": "ipython3",
   "version": "3.10.14"
  }
 },
 "nbformat": 4,
 "nbformat_minor": 5
}
